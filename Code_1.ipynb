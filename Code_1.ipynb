{
 "metadata": {
  "language_info": {
   "codemirror_mode": {
    "name": "ipython",
    "version": 3
   },
   "file_extension": ".py",
   "mimetype": "text/x-python",
   "name": "python",
   "nbconvert_exporter": "python",
   "pygments_lexer": "ipython3",
   "version": 3
  },
  "orig_nbformat": 2,
  "kernelspec": {
   "name": "python_defaultSpec_1596419246690",
   "display_name": "Python 3.7.6 64-bit ('base': conda)"
  }
 },
 "nbformat": 4,
 "nbformat_minor": 2,
 "cells": [
  {
   "cell_type": "markdown",
   "metadata": {},
   "source": [
    "### No Feature Selection!"
   ]
  },
  {
   "cell_type": "code",
   "execution_count": 14,
   "metadata": {},
   "outputs": [],
   "source": [
    "import pandas as pd\n",
    "import numpy as np\n",
    "from sklearn.linear_model import LinearRegression\n",
    "from sklearn.ensemble import RandomForestRegressor\n",
    "from sklearn.ensemble import GradientBoostingRegressor\n",
    "from sklearn.ensemble import AdaBoostRegressor\n",
    "from sklearn.tree import DecisionTreeRegressor\n",
    "from sklearn import metrics\n",
    "from sklearn.metrics import classification_report\n",
    "from sklearn.model_selection import train_test_split\n",
    "from sklearn import preprocessing\n",
    "from sklearn.ensemble import BaggingRegressor\n",
    "import math, os, random \n",
    "from sklearn.model_selection import learning_curve\n",
    "import matplotlib.pyplot as plt\n",
    "from sklearn.model_selection import cross_validate"
   ]
  },
  {
   "cell_type": "code",
   "execution_count": 2,
   "metadata": {},
   "outputs": [],
   "source": [
    "def plot_learning_curve(estimator, title, X, y, axes=None, ylim=None, cv=None,\n",
    "                        n_jobs=None, train_sizes=np.linspace(.1, 1.0, 5)):\n",
    "  \n",
    "    if axes is None:\n",
    "        _, axes = plt.subplots(1, 1, figsize=(20, 5))\n",
    "\n",
    "    axes[0].set_title(title)\n",
    "    if ylim is not None:\n",
    "        axes[0].set_ylim(*ylim)\n",
    "    axes[0].set_xlabel(\"Training examples\")\n",
    "    axes[0].set_ylabel(\"Score\")\n",
    "\n",
    "    train_sizes, train_scores, test_scores, fit_times, _ = \\\n",
    "        learning_curve(estimator, X, y, cv=cv, n_jobs=n_jobs,\n",
    "                       train_sizes=train_sizes,\n",
    "                       return_times=True)\n",
    "    train_scores_mean = np.mean(train_scores, axis=1)\n",
    "    train_scores_std = np.std(train_scores, axis=1)\n",
    "    test_scores_mean = np.mean(test_scores, axis=1)\n",
    "    test_scores_std = np.std(test_scores, axis=1)\n",
    "    fit_times_mean = np.mean(fit_times, axis=1)\n",
    "    fit_times_std = np.std(fit_times, axis=1)\n",
    "\n",
    "    # Plot fit_time vs score\n",
    "    axes[0].grid()\n",
    "    axes[0].fill_between(train_sizes, train_scores_mean - train_scores_std,\n",
    "                         train_scores_mean + train_scores_std, alpha=0.1,\n",
    "                         color=\"r\")\n",
    "    axes[0].fill_between(train_sizes, test_scores_mean - test_scores_std,\n",
    "                         test_scores_mean + test_scores_std, alpha=0.1,\n",
    "                         color=\"g\")\n",
    "    axes[0].plot(train_sizes, train_scores_mean, 'o-', color=\"r\",\n",
    "                 label=\"Training score\")\n",
    "    axes[0].plot(train_sizes, test_scores_mean, 'o-', color=\"g\",\n",
    "                 label=\"Test score\")\n",
    "    axes[0].legend(loc=\"best\")\n",
    "\n",
    "\n",
    "    return plt\n"
   ]
  },
  {
   "cell_type": "code",
   "execution_count": 3,
   "metadata": {
    "tags": []
   },
   "outputs": [],
   "source": [
    "#Load the train and test data\n",
    "files = os.listdir(\"Data\")\n",
    "filename = files[-1]\n",
    "train_data = pd.read_csv(\"./Data/{}\".format(filename),header=None)\n",
    "file_list = files[:-1] # test data list\n",
    "train_output = train_data[len(train_data.columns)-1]\n",
    "del train_data[len(train_data.columns)-1]"
   ]
  },
  {
   "cell_type": "code",
   "execution_count": 4,
   "metadata": {},
   "outputs": [],
   "source": [
    "# Initialize the models\n",
    "reg = LinearRegression()\n",
    "rf = RandomForestRegressor()\n",
    "regressors = [reg,rf]\n",
    "regressor_names = [\"Linear Regression\",\"Random Forests\"]"
   ]
  },
  {
   "cell_type": "code",
   "execution_count": 5,
   "metadata": {},
   "outputs": [],
   "source": [
    "# Bagging of Linear Regression\n",
    "regEnsemble = BaggingRegressor(base_estimator=reg, n_estimators=10, max_samples=1.0, oob_score=True, random_state=random.randint(0,100))\n",
    "regressors.append(regEnsemble)\n",
    "regressor_names.append(\"Linear Regression Ensemble\")"
   ]
  },
  {
   "cell_type": "code",
   "execution_count": 6,
   "metadata": {
    "tags": []
   },
   "outputs": [
    {
     "output_type": "stream",
     "name": "stdout",
     "text": "Mean Squared Error for  Linear Regression Ensemble  :  630.2339515734333\nR2 score for  Linear Regression Ensemble  :  -0.034341176529311415\nHIT@10 for  Linear Regression Ensemble  :  5.016666666666667\n\n\n"
    }
   ],
   "source": [
    "for regressor,regressor_name in zip(regressors,regressor_names):\n",
    "    if regressor_name != \"Linear Regression Ensemble\":\n",
    "        continue\n",
    "    res = []\n",
    "    col_names = [\"fileName\", \"Mean Squared Error\", \"R2 score\", \"HIT@10\"]\n",
    "    for filename in file_list:\n",
    "        # Load the test data\n",
    "        test_data = pd.read_csv(\"./Data/{}\".format(filename),header=None)\n",
    "        test_output = test_data[len(test_data.columns)-1]\n",
    "        del test_data[len(test_data.columns)-1]\n",
    "        rank_test = [index for index,value in sorted(list(enumerate(test_output)),key=lambda x:x[1], reverse=True)]\n",
    "        regressor.fit(train_data,train_output)\n",
    "        predicted_values = regressor.predict(test_data)\n",
    "        rank_predict = [index for index,value in sorted(list(enumerate(predicted_values)),key=lambda x:x[1], reverse=True)]\n",
    "        counter = len([x for x in rank_predict[:10] if x in rank_test[:10]])\n",
    "\n",
    "        result = [filename, metrics.mean_squared_error(test_output,predicted_values), metrics.r2_score(test_output,predicted_values), counter]\n",
    "        res.append(result)\n",
    "    df = pd.DataFrame(data=res, columns=col_names)\n",
    "    col_mean = df[[\"Mean Squared Error\", \"R2 score\", \"HIT@10\"]].mean()\n",
    "    col_mean[\"fileName\"] = \"Average\"\n",
    "    df = df.append(col_mean, ignore_index=True)\n",
    "    df.to_csv(\"./{}_1.csv\".format(regressor_name), index=False)\n",
    "    print (\"Mean Squared Error for \",regressor_name, \" : \", col_mean[\"Mean Squared Error\"])\n",
    "    print (\"R2 score for \",regressor_name, \" : \", col_mean[\"R2 score\"])\n",
    "    print (\"HIT@10 for \",regressor_name, \" : \", col_mean[\"HIT@10\"])\n",
    "    print(\"\\n\")"
   ]
  },
  {
   "cell_type": "code",
   "execution_count": 7,
   "metadata": {
    "tags": []
   },
   "outputs": [],
   "source": [
    "# for regressor,regressor_name in zip(regressors,regressor_names):\n",
    "#     res = []\n",
    "#     col_names = [\"fileName\", \"Mean Squared Error\", \"R2 score\", \"HIT@10\"]\n",
    "#     for filename in file_list:\n",
    "#         # Load the test data\n",
    "#         test_data = pd.read_csv(\"./Data/{}\".format(filename),header=None)\n",
    "#         test_output = test_data[len(test_data.columns)-1]\n",
    "#         del test_data[len(test_data.columns)-1]\n",
    "#         rank_test = [index for index,value in sorted(list(enumerate(test_output)),key=lambda x:x[1], reverse=True)]\n",
    "#         regressor.fit(train_data,train_output)\n",
    "#         predicted_values = regressor.predict(test_data)\n",
    "#         rank_predict = [index for index,value in sorted(list(enumerate(predicted_values)),key=lambda x:x[1], reverse=True)]\n",
    "#         counter = len([x for x in rank_predict[:10] if x in rank_test[:10]])\n",
    "\n",
    "#         result = [filename, metrics.mean_squared_error(test_output,predicted_values), metrics.r2_score(test_output,predicted_values), counter]\n",
    "#         res.append(result)\n",
    "#     df = pd.DataFrame(data=res, columns=col_names)\n",
    "#     col_mean = df[[\"Mean Squared Error\", \"R2 score\", \"HIT@10\"]].mean()\n",
    "#     col_mean[\"fileName\"] = \"Average\"\n",
    "#     df = df.append(col_mean, ignore_index=True)\n",
    "#     df.to_csv(\"./{}123.csv\".format(regressor_name), index=False)\n",
    "#     print (\"Mean Squared Error for \",regressor_name, \" : \", col_mean[\"Mean Squared Error\"])\n",
    "#     print (\"R2 score for \",regressor_name, \" : \", col_mean[\"R2 score\"])\n",
    "#     print (\"HIT@10 for \",regressor_name, \" : \", col_mean[\"HIT@10\"])\n",
    "#     print(\"\\n\")"
   ]
  },
  {
   "cell_type": "code",
   "execution_count": null,
   "metadata": {},
   "outputs": [],
   "source": []
  }
 ]
}